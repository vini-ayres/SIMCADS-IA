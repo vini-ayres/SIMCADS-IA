{
 "cells": [
  {
   "cell_type": "code",
   "execution_count": 1,
   "id": "21c48c6e-004a-46cd-a07c-c6592cf7d037",
   "metadata": {},
   "outputs": [],
   "source": [
    "import pandas as pd\n",
    "\n",
    "df = pd.read_csv(\"Agregados_por_distritos_obitos_BR.csv\", encoding=\"latin1\", sep=\";\")"
   ]
  },
  {
   "cell_type": "code",
   "execution_count": 2,
   "id": "12d5f0db-0377-4b89-b8df-4531b16175a6",
   "metadata": {},
   "outputs": [],
   "source": [
    "df_normalizado = pd.melt(\n",
    "    df,\n",
    "    id_vars=[\"CD_DIST\", \"NM_DIST\"],\n",
    "    value_vars=[\"V01226\", \"V01227\", \"V01238\"],\n",
    "    var_name=\"Sexo_Cod\",\n",
    "    value_name=\"Obitos\"\n",
    ")"
   ]
  },
  {
   "cell_type": "code",
   "execution_count": 3,
   "id": "2ec69c71-265e-4c5d-9474-37aaffce6859",
   "metadata": {},
   "outputs": [],
   "source": [
    "sexo_map = {\n",
    "    \"V01226\": \"Feminino\",\n",
    "    \"V01227\": \"Masculino\",\n",
    "    \"V01238\": \"Masculino (70 anos ou mais)\"\n",
    "}\n",
    "\n",
    "df_normalizado[\"Sexo\"] = df_normalizado[\"Sexo_Cod\"].map(sexo_map)\n",
    "df_normalizado[\"Idade\"] = df_normalizado[\"Sexo_Cod\"].map(sexo_map)"
   ]
  },
  {
   "cell_type": "code",
   "execution_count": 4,
   "id": "b23e438f-09ba-42c6-9c7b-a9e13796184e",
   "metadata": {},
   "outputs": [],
   "source": [
    "# Reorganizar colunas\n",
    "df_normalizado = df_normalizado[[\"CD_DIST\", \"NM_DIST\", \"Sexo\", \"Obitos\"]]\n",
    "\n",
    "# Salvar resultado se quiser\n",
    "df_normalizado.to_csv(\"obitos_normalizados.csv\", index=False)\n"
   ]
  }
 ],
 "metadata": {
  "kernelspec": {
   "display_name": "Python 3 (ipykernel)",
   "language": "python",
   "name": "python3"
  },
  "language_info": {
   "codemirror_mode": {
    "name": "ipython",
    "version": 3
   },
   "file_extension": ".py",
   "mimetype": "text/x-python",
   "name": "python",
   "nbconvert_exporter": "python",
   "pygments_lexer": "ipython3",
   "version": "3.11.9"
  }
 },
 "nbformat": 4,
 "nbformat_minor": 5
}
