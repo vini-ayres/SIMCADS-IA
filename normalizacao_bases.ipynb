{
 "cells": [
  {
   "cell_type": "code",
   "execution_count": 1,
   "id": "0752b5ab-db98-4a87-84b2-4c1da9874495",
   "metadata": {},
   "outputs": [],
   "source": [
    "import pandas as pd"
   ]
  },
  {
   "cell_type": "code",
   "execution_count": 2,
   "id": "469b3f8f-b344-47b2-b7af-b69e501e1705",
   "metadata": {},
   "outputs": [],
   "source": [
    "# Carregar a base de óbitos\n",
    "obitos_df = pd.read_csv(\"Agregados_por_distritos_obitos_BR.csv\", encoding=\"latin1\", sep=\";\")"
   ]
  },
  {
   "cell_type": "code",
   "execution_count": 3,
   "id": "ac132057-23b9-4afe-a53b-e9fa2b78d8da",
   "metadata": {},
   "outputs": [],
   "source": [
    "# Carregar a base com área dos distritos\n",
    "basico_df = pd.read_csv(\"Agregados_por_distritos_basico_BR.csv\", encoding=\"latin1\", sep=\";\")"
   ]
  },
  {
   "cell_type": "code",
   "execution_count": 4,
   "id": "adf1098f-7c91-47da-af53-1c4e0df6a942",
   "metadata": {},
   "outputs": [],
   "source": [
    "# Remover espaços extras dos nomes das colunas\n",
    "obitos_df.columns = obitos_df.columns.str.strip()\n",
    "basico_df.columns = basico_df.columns.str.strip()"
   ]
  },
  {
   "cell_type": "code",
   "execution_count": 5,
   "id": "9c2a7b70-2fdc-45aa-b85e-b01719e4ef5e",
   "metadata": {},
   "outputs": [],
   "source": [
    "# Renomear colunas de interesse\n",
    "basico_df.rename(columns={'v0001': 'POP_TOTAL'}, inplace=True)"
   ]
  },
  {
   "cell_type": "code",
   "execution_count": 6,
   "id": "dbf64c23-29b8-4f0e-b422-1f8b86da033a",
   "metadata": {},
   "outputs": [],
   "source": [
    "obitos_df['V01224'] = pd.to_numeric(obitos_df['V01224'], errors='coerce')\n",
    "obitos_df['V01225'] = pd.to_numeric(obitos_df['V01225'], errors='coerce')\n",
    "obitos_df['PCT_DOMICILIOS_COM_OBITO'] = (obitos_df['V01224'] / (obitos_df['V01224'] + obitos_df['V01225'])) * 100"
   ]
  },
  {
   "cell_type": "code",
   "execution_count": 7,
   "id": "ffc18766-1e6b-44fc-a95a-c4e2bfaaca36",
   "metadata": {},
   "outputs": [],
   "source": [
    "# Criar coluna M >= 60 ANOS como soma dos óbitos masculinos 60-69 anos (V01237) e >= 70 anos (V01238)\n",
    "obitos_df['V01237'] = pd.to_numeric(obitos_df['V01237'], errors='coerce')\n",
    "obitos_df['V01238'] = pd.to_numeric(obitos_df['V01238'], errors='coerce')\n",
    "obitos_df['M >= 60 ANOS'] = obitos_df['V01237'] + obitos_df['V01238']"
   ]
  },
  {
   "cell_type": "code",
   "execution_count": 8,
   "id": "50f5b8d1-c4b5-4f7e-bf9a-3d6b1a2b0d92",
   "metadata": {},
   "outputs": [],
   "source": [
    "# Criar coluna M >= 60 ANOS como soma dos óbitos femininos 60-69 anos (V01248) e >= 70 anos (V01249)\n",
    "obitos_df['V01248'] = pd.to_numeric(obitos_df['V01248'], errors='coerce')\n",
    "obitos_df['V01249'] = pd.to_numeric(obitos_df['V01249'], errors='coerce')\n",
    "obitos_df['F >= 60 ANOS'] = obitos_df['V01248'] + obitos_df['V01249']"
   ]
  },
  {
   "cell_type": "code",
   "execution_count": 9,
   "id": "4d7071a2-ab5d-4678-8a96-b916ec408bc2",
   "metadata": {},
   "outputs": [],
   "source": [
    "# Criar coluna OBITOS como soma dos óbitos masculinos (V01224) e femininos (V01225)\n",
    "obitos_df['V01226'] = pd.to_numeric(obitos_df['V01226'], errors='coerce')\n",
    "obitos_df['V01227'] = pd.to_numeric(obitos_df['V01227'], errors='coerce')\n",
    "obitos_df['OBITOS TOTAIS (M+F)'] = obitos_df['V01226'] + obitos_df['V01227']"
   ]
  },
  {
   "cell_type": "code",
   "execution_count": 10,
   "id": "fd1ecff1-76ea-42de-9532-cdb7d8a64d4c",
   "metadata": {},
   "outputs": [],
   "source": [
    "# Criar coluna de óbitos M + F >= 60 anos em 2019\n",
    "obitos_df['V01288'] = pd.to_numeric(obitos_df['V01288'], errors='coerce')\n",
    "obitos_df['V01292'] = pd.to_numeric(obitos_df['V01292'], errors='coerce')\n",
    "obitos_df['2019 (M+F >= 60 anos)'] = obitos_df['V01288'] + obitos_df['V01292']"
   ]
  },
  {
   "cell_type": "code",
   "execution_count": 11,
   "id": "b2d4d213-3921-4c06-94e2-cc7c783e057d",
   "metadata": {},
   "outputs": [],
   "source": [
    "# Criar coluna de óbitos M + F >= 60 anos em 2020\n",
    "obitos_df['V01296'] = pd.to_numeric(obitos_df['V01296'], errors='coerce')\n",
    "obitos_df['V01300'] = pd.to_numeric(obitos_df['V01300'], errors='coerce')\n",
    "obitos_df['2020 (M+F >= 60 anos)'] = obitos_df['V01296'] + obitos_df['V01300']"
   ]
  },
  {
   "cell_type": "code",
   "execution_count": 12,
   "id": "04d974f2-8f88-46c3-a599-1c86db16451c",
   "metadata": {},
   "outputs": [],
   "source": [
    "# Criar coluna de óbitos M + F >= 60 anos em 2021\n",
    "obitos_df['V01304'] = pd.to_numeric(obitos_df['V01304'], errors='coerce')\n",
    "obitos_df['V01308'] = pd.to_numeric(obitos_df['V01308'], errors='coerce')\n",
    "obitos_df['2021 (M+F >= 60 anos)'] = obitos_df['V01304'] + obitos_df['V01308']"
   ]
  },
  {
   "cell_type": "code",
   "execution_count": 13,
   "id": "a7aa8184-c2a8-406c-8c9b-24019c3d4b9e",
   "metadata": {},
   "outputs": [],
   "source": [
    "# Criar coluna de óbitos M + F >= 60 anos em 2022\n",
    "obitos_df['V01312'] = pd.to_numeric(obitos_df['V01312'], errors='coerce')\n",
    "obitos_df['V01316'] = pd.to_numeric(obitos_df['V01316'], errors='coerce')\n",
    "obitos_df['2022 (M+F >= 60 anos)'] = obitos_df['V01312'] + obitos_df['V01316']"
   ]
  },
  {
   "cell_type": "code",
   "execution_count": 14,
   "id": "4950a4cb-093a-47fd-9932-1f7939548f2e",
   "metadata": {},
   "outputs": [],
   "source": [
    "# Selecionar colunas relevantes de cada DataFrame\n",
    "obitos_selecionados = obitos_df[[\n",
    "    \"CD_DIST\", \"NM_DIST\", \"M >= 60 ANOS\", \"F >= 60 ANOS\", \"OBITOS TOTAIS (M+F)\",\n",
    "    \"PCT_DOMICILIOS_COM_OBITO\", \"2019 (M+F >= 60 anos)\", \"2020 (M+F >= 60 anos)\",\n",
    "    \"2021 (M+F >= 60 anos)\", '2022 (M+F >= 60 anos)'\n",
    "]]\n",
    "area_selecionada = basico_df[[\"CD_DIST\", \"AREA_KM2\", \"POP_TOTAL\"]]"
   ]
  },
  {
   "cell_type": "code",
   "execution_count": 15,
   "id": "939200d4-efb0-4db3-b40c-4ed9a86c4de4",
   "metadata": {},
   "outputs": [],
   "source": [
    "# Mesclar os dados\n",
    "df_merged = pd.merge(obitos_selecionados, area_selecionada, on=\"CD_DIST\", how=\"left\")"
   ]
  },
  {
   "cell_type": "code",
   "execution_count": 16,
   "id": "9445c0c1-4b0a-43ce-9f1b-a3ad4ec1ae33",
   "metadata": {},
   "outputs": [],
   "source": [
    "# Converter colunas para valores numéricos\n",
    "colunas_numericas = ['POP_TOTAL', 'AREA_KM2', 'M >= 60 ANOS', 'F >= 60 ANOS', 'OBITOS TOTAIS (M+F)']\n",
    "for coluna in colunas_numericas:\n",
    "    df_merged[coluna] = (\n",
    "        df_merged[coluna]\n",
    "        .astype(str)  # garantir que é string\n",
    "        .str.replace('.', '', regex=False)  # remove milhar (ex: 1.000 -> 1000)\n",
    "        .str.replace(',', '.', regex=False)  # troca vírgula por ponto decimal\n",
    "    )\n",
    "    df_merged[coluna] = pd.to_numeric(df_merged[coluna], errors='coerce')  # converte para float\n",
    "df_merged['M >= 60 ANOS'] = df_merged['M >= 60 ANOS'] / 10\n",
    "df_merged['F >= 60 ANOS'] = df_merged['F >= 60 ANOS'] / 10\n",
    "df_merged['OBITOS TOTAIS (M+F)'] = df_merged['OBITOS TOTAIS (M+F)'] / 10"
   ]
  },
  {
   "cell_type": "code",
   "execution_count": 17,
   "id": "8cafa841-be83-4652-9d0a-cba1a0d35577",
   "metadata": {},
   "outputs": [],
   "source": [
    "# Criar novas colunas derivadas\n",
    "df_merged[\"DENSIDADE_DEMOGRAFICA\"] = df_merged[\"POP_TOTAL\"] / df_merged[\"AREA_KM2\"]\n",
    "df_merged[\"PCT_IDOSOS\"] = ((df_merged[\"M >= 60 ANOS\"] + df_merged[\"F >= 60 ANOS\"]) / df_merged[\"POP_TOTAL\"]) * 100\n",
    "df_merged[\"OBITOS_PER_CAPITA\"] = df_merged[\"OBITOS TOTAIS (M+F)\"] / df_merged[\"POP_TOTAL\"]"
   ]
  },
  {
   "cell_type": "code",
   "execution_count": 18,
   "id": "96bebaaa-e689-4275-96f8-527c74dde702",
   "metadata": {},
   "outputs": [
    {
     "name": "stdout",
     "output_type": "stream",
     "text": [
      "Arquivo 'obitos_normalizados.csv' criado com sucesso.\n"
     ]
    }
   ],
   "source": [
    "# Exportar resultado\n",
    "df_merged.to_csv(\"obitos_normalizados.csv\", index=False, encoding='utf-8')\n",
    "print(\"Arquivo 'obitos_normalizados.csv' criado com sucesso.\")"
   ]
  }
 ],
 "metadata": {
  "kernelspec": {
   "display_name": "Python 3 (ipykernel)",
   "language": "python",
   "name": "python3"
  },
  "language_info": {
   "codemirror_mode": {
    "name": "ipython",
    "version": 3
   },
   "file_extension": ".py",
   "mimetype": "text/x-python",
   "name": "python",
   "nbconvert_exporter": "python",
   "pygments_lexer": "ipython3",
   "version": "3.11.9"
  }
 },
 "nbformat": 4,
 "nbformat_minor": 5
}
