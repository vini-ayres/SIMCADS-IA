{
 "cells": [
  {
   "cell_type": "code",
   "execution_count": 2,
   "id": "809c1bc2-e00e-4b1b-b9c0-496faa9419c8",
   "metadata": {},
   "outputs": [],
   "source": [
    "import pandas as pd"
   ]
  },
  {
   "cell_type": "code",
   "execution_count": 3,
   "id": "24c5da4e-835f-4609-88f3-ea8a4711c175",
   "metadata": {},
   "outputs": [],
   "source": [
    "# Carregar a base de óbitos\n",
    "obitos_df = pd.read_csv(\"Agregados_por_distritos_obitos_BR.csv\", encoding=\"latin1\", sep=\";\")"
   ]
  },
  {
   "cell_type": "code",
   "execution_count": 4,
   "id": "fd1a31e8-f55b-45e6-be65-ca7bcc53a44b",
   "metadata": {},
   "outputs": [],
   "source": [
    "# Carregar a base com área dos distritos\n",
    "basico_df = pd.read_csv(\"Agregados_por_distritos_basico_BR.csv\", encoding=\"latin1\", sep=\";\")"
   ]
  },
  {
   "cell_type": "code",
   "execution_count": 5,
   "id": "ccea70fe-f715-4ec5-bfea-04ffde06892e",
   "metadata": {},
   "outputs": [],
   "source": [
    "# Remover espaços extras dos nomes das colunas\n",
    "obitos_df.columns = obitos_df.columns.str.strip()\n",
    "basico_df.columns = basico_df.columns.str.strip()"
   ]
  },
  {
   "cell_type": "code",
   "execution_count": 6,
   "id": "6efdcd00-7324-428b-8cf7-eabb858b3447",
   "metadata": {},
   "outputs": [],
   "source": [
    "# Renomear colunas da base\n",
    "obitos_df.rename(columns={'V01238': 'M >= 70 ANOS', 'V01239': 'F >= 70 ANOS'}, inplace=True)\n",
    "basico_df.rename(columns={'v0001': 'POP_TOTAL'}, inplace=True)"
   ]
  },
  {
   "cell_type": "code",
   "execution_count": 7,
   "id": "51a7bee6-d057-4c83-ab0c-d69bc99045f5",
   "metadata": {},
   "outputs": [
    {
     "name": "stdout",
     "output_type": "stream",
     "text": [
      "Colunas em obitos_df: ['CD_DIST', 'NM_DIST', 'V01224', 'V01225', 'V01226', 'V01227', 'V01228', 'V01229', 'V01230', 'V01231', 'V01232', 'V01233', 'V01234', 'V01235', 'V01236', 'V01237', 'M >= 70 ANOS', 'F >= 70 ANOS', 'V01240', 'V01241', 'V01242', 'V01243', 'V01244', 'V01245', 'V01246', 'V01247', 'V01248', 'V01249', 'V01250', 'V01251', 'V01252', 'V01253', 'V01254', 'V01255', 'V01256', 'V01257', 'V01258', 'V01259', 'V01260', 'V01261', 'V01262', 'V01263', 'V01264', 'V01265', 'V01266', 'V01267', 'V01268', 'V01269', 'V01270', 'V01271', 'V01272', 'V01273', 'V01274', 'V01275', 'V01276', 'V01277', 'V01278', 'V01279', 'V01280', 'V01281', 'V01282', 'V01283', 'V01284', 'V01285', 'V01286', 'V01287', 'V01288', 'V01289', 'V01290', 'V01291', 'V01292', 'V01293', 'V01294', 'V01295', 'V01296', 'V01297', 'V01298', 'V01299', 'V01300', 'V01301', 'V01302', 'V01303', 'V01304', 'V01305', 'V01306', 'V01307', 'V01308', 'V01309', 'V01310', 'V01311', 'V01312', 'V01313', 'V01314', 'V01315', 'V01316']\n",
      "Colunas em basico_df: ['CD_DIST', 'NM_DIST', 'CD_REGIAO', 'NM_REGIAO', 'CD_UF', 'NM_UF', 'CD_MUN', 'NM_MUN', 'CD_NU', 'NM_NU', 'CD_AGLOM', 'NM_AGLOM', 'CD_RGINT', 'NM_RGINT', 'CD_RGI', 'NM_RGI', 'CD_CONCURB', 'NM_CONCURB', 'AREA_KM2', 'POP_TOTAL', 'v0002', 'v0003', 'v0004', 'v0005', 'v0006', 'v0007']\n"
     ]
    }
   ],
   "source": [
    "# Exibir os nomes das colunas disponíveis em cada DataFrame (opcional para debug)\n",
    "print(\"Colunas em obitos_df:\", obitos_df.columns.tolist())\n",
    "print(\"Colunas em basico_df:\", basico_df.columns.tolist())"
   ]
  },
  {
   "cell_type": "code",
   "execution_count": 8,
   "id": "afbd2cac-0d74-4298-a327-68109cd55cb1",
   "metadata": {},
   "outputs": [],
   "source": [
    "# Selecionar colunas desejadas da base de óbitos\n",
    "obitos_selecionados = obitos_df[[\"CD_DIST\", \"NM_DIST\", \"M >= 70 ANOS\", \"F >= 70 ANOS\"]]"
   ]
  },
  {
   "cell_type": "code",
   "execution_count": 10,
   "id": "4f659c44-7ecc-4d31-a89c-06394abbdfa3",
   "metadata": {},
   "outputs": [],
   "source": [
    "# Selecionar colunas da base com área (confirmando que existem)\n",
    "area_selecionada = basico_df[[\"CD_DIST\", \"AREA_KM2\", \"POP_TOTAL\"]]"
   ]
  },
  {
   "cell_type": "code",
   "execution_count": 11,
   "id": "9904e3a6-5a6b-4499-b62d-66f3b94d621d",
   "metadata": {},
   "outputs": [],
   "source": [
    "# Realizar merge\n",
    "df_merged = pd.merge(obitos_selecionados, area_selecionada, on=[\"CD_DIST\"], how=\"left\")"
   ]
  },
  {
   "cell_type": "code",
   "execution_count": 12,
   "id": "0a083f75-74e8-4839-bf41-6bc7a04136c5",
   "metadata": {},
   "outputs": [
    {
     "name": "stdout",
     "output_type": "stream",
     "text": [
      "Arquivo 'obitos_normalizados.csv' criado com sucesso.\n"
     ]
    }
   ],
   "source": [
    "# Exportar para CSV com codificação UTF-8\n",
    "df_merged.to_csv(\"obitos_normalizados.csv\", index=False, encoding='utf-8')\n",
    "print(\"Arquivo 'obitos_normalizados.csv' criado com sucesso.\")"
   ]
  },
  {
   "cell_type": "code",
   "execution_count": null,
   "id": "c1d3e907-2b6f-4b5c-bb29-d0abb40272f1",
   "metadata": {},
   "outputs": [],
   "source": []
  }
 ],
 "metadata": {
  "kernelspec": {
   "display_name": "Python 3 (ipykernel)",
   "language": "python",
   "name": "python3"
  },
  "language_info": {
   "codemirror_mode": {
    "name": "ipython",
    "version": 3
   },
   "file_extension": ".py",
   "mimetype": "text/x-python",
   "name": "python",
   "nbconvert_exporter": "python",
   "pygments_lexer": "ipython3",
   "version": "3.11.9"
  }
 },
 "nbformat": 4,
 "nbformat_minor": 5
}
